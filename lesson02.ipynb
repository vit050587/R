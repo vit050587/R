{
  "nbformat": 4,
  "nbformat_minor": 0,
  "metadata": {
    "colab": {
      "name": "lesson02.ipynb",
      "provenance": [],
      "collapsed_sections": [],
      "toc_visible": true,
      "authorship_tag": "ABX9TyMXLWRWozraQ+1Klb3oK3yx",
      "include_colab_link": true
    },
    "kernelspec": {
      "name": "ir",
      "display_name": "R"
    },
    "language_info": {
      "name": "R"
    }
  },
  "cells": [
    {
      "cell_type": "markdown",
      "metadata": {
        "id": "view-in-github",
        "colab_type": "text"
      },
      "source": [
        "<a href=\"https://colab.research.google.com/github/vit050587/R/blob/lesson02/lesson02.ipynb\" target=\"_parent\"><img src=\"https://colab.research.google.com/assets/colab-badge.svg\" alt=\"Open In Colab\"/></a>"
      ]
    },
    {
      "cell_type": "markdown",
      "metadata": {
        "id": "BCrnPlnvrIgV"
      },
      "source": [
        "# Урок 2 Работа с данными в R"
      ]
    },
    {
      "cell_type": "markdown",
      "metadata": {
        "id": "AamZmR11rhAT"
      },
      "source": [
        "## Условия if else"
      ]
    },
    {
      "cell_type": "code",
      "metadata": {
        "id": "7H2ywO3jtRy2"
      },
      "source": [
        ""
      ],
      "execution_count": null,
      "outputs": []
    },
    {
      "cell_type": "markdown",
      "metadata": {
        "id": "jS7AcnX6sQRq"
      },
      "source": [
        "## Пишем функцию"
      ]
    },
    {
      "cell_type": "code",
      "metadata": {
        "id": "ZX-7WKuMtSu0"
      },
      "source": [
        ""
      ],
      "execution_count": null,
      "outputs": []
    },
    {
      "cell_type": "markdown",
      "metadata": {
        "id": "ZwZmcdnFrePu"
      },
      "source": [
        ""
      ]
    },
    {
      "cell_type": "markdown",
      "metadata": {
        "id": "0HDbhnkHsX5H"
      },
      "source": [
        "## Цикл for"
      ]
    },
    {
      "cell_type": "code",
      "metadata": {
        "id": "wL-EiM1ktT8V"
      },
      "source": [
        ""
      ],
      "execution_count": null,
      "outputs": []
    },
    {
      "cell_type": "markdown",
      "metadata": {
        "id": "0iywXGK8sYfR"
      },
      "source": [
        "## Пакет \"lubrydata\""
      ]
    },
    {
      "cell_type": "code",
      "metadata": {
        "id": "2pgxQZI4tUr5"
      },
      "source": [
        ""
      ],
      "execution_count": null,
      "outputs": []
    },
    {
      "cell_type": "markdown",
      "metadata": {
        "id": "_zecsNhysZas"
      },
      "source": [
        "## Симуляция Монте-Карло"
      ]
    },
    {
      "cell_type": "code",
      "metadata": {
        "id": "qhWXxtG0tVGq"
      },
      "source": [
        ""
      ],
      "execution_count": null,
      "outputs": []
    },
    {
      "cell_type": "markdown",
      "metadata": {
        "id": "PqanaAlCtFvr"
      },
      "source": [
        ""
      ]
    },
    {
      "cell_type": "markdown",
      "metadata": {
        "id": "BZh5WaaIsZ23"
      },
      "source": [
        "## Экспорт/импорт данных"
      ]
    },
    {
      "cell_type": "code",
      "metadata": {
        "id": "_1NaII_FtV7g"
      },
      "source": [
        ""
      ],
      "execution_count": null,
      "outputs": []
    },
    {
      "cell_type": "markdown",
      "metadata": {
        "id": "wPFuUqfVsaNo"
      },
      "source": [
        "## Работа с текстовыми данными"
      ]
    },
    {
      "cell_type": "code",
      "metadata": {
        "id": "eQdoUbYHtWwk"
      },
      "source": [
        ""
      ],
      "execution_count": null,
      "outputs": []
    }
  ]
}